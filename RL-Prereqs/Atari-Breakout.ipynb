{
 "cells": [
  {
   "cell_type": "markdown",
   "id": "0e0fb10d",
   "metadata": {},
   "source": [
    "# Import Dependencies\n",
    "\n",
    "Vec Frame Stack: In the main lecture, we didn't vectorize our environments. In Atari, we are training on 4 environments at the same time, so vectorizing them will make it a lot faster. <b> Question: Why are we using 4 different environments? <b>\n",
    "    \n",
    "evaluate_policy: tests out how a model is performing. Gets the average reward over a certain number of episodes\n",
    "    \n",
    "Check out Atari Environments: https://gym.openai.com/envs/#atari "
   ]
  },
  {
   "cell_type": "code",
   "execution_count": 2,
   "id": "d23c8d6f",
   "metadata": {},
   "outputs": [],
   "source": [
    "import gym\n",
    "from stable_baselines3 import A2C\n",
    "from stable_baselines3.common.vec_env import VecFrameStack \n",
    "from stable_baselines3.common.evaluation import evaluate_policy\n",
    "from stable_baselines3.common.env_util import make_atari_env\n",
    "import os"
   ]
  },
  {
   "cell_type": "markdown",
   "id": "797bcdb4",
   "metadata": {},
   "source": [
    "# Test Environment"
   ]
  },
  {
   "cell_type": "code",
   "execution_count": 4,
   "id": "ac3bd8f3",
   "metadata": {},
   "outputs": [
    {
     "name": "stdout",
     "output_type": "stream",
     "text": [
      "copying koolaid.bin from ./Roms/ROMS/Kool-Aid Man (Kool Aid Pitcher Man) (1983) (M Network, Stephen Tatsumi, Jane Terjung - Kool Aid) (MT4648) ~.bin to /Users/shrutisharma/anaconda3/lib/python3.6/site-packages/atari_py/atari_roms/koolaid.bin\n",
      "copying alien.bin from ./Roms/ROMS/Alien (1982) (20th Century Fox Video Games, Douglas 'Dallas North' Neubauer) (11006) ~.bin to /Users/shrutisharma/anaconda3/lib/python3.6/site-packages/atari_py/atari_roms/alien.bin\n",
      "copying demon_attack.bin from ./Roms/ROMS/Demon Attack (Death from Above) (1982) (Imagic, Rob Fulop) (720000-200, 720101-1B, 720101-1C, IA3200, IA3200C, IX-006-04) ~.bin to /Users/shrutisharma/anaconda3/lib/python3.6/site-packages/atari_py/atari_roms/demon_attack.bin\n",
      "copying crazy_climber.bin from ./Roms/ROMS/Crazy Climber (1983) (Atari - Roklan, Joe Gaucher, Alex Leavens) (CX2683) ~.bin to /Users/shrutisharma/anaconda3/lib/python3.6/site-packages/atari_py/atari_roms/crazy_climber.bin\n",
      "copying video_pinball.bin from ./Roms/ROMS/Pinball (AKA Video Pinball) (Zellers).bin to /Users/shrutisharma/anaconda3/lib/python3.6/site-packages/atari_py/atari_roms/video_pinball.bin\n",
      "copying yars_revenge.bin from ./Roms/ROMS/Yars' Revenge (Time Freeze) (1982) (Atari, Howard Scott Warshaw - Sears) (CX2655 - 49-75167) ~.bin to /Users/shrutisharma/anaconda3/lib/python3.6/site-packages/atari_py/atari_roms/yars_revenge.bin\n",
      "copying donkey_kong.bin from ./Roms/ROMS/Donkey Kong (1982) (Coleco - Woodside Design Associates - Imaginative Systems Software, Garry Kitchen) (2451) ~.bin to /Users/shrutisharma/anaconda3/lib/python3.6/site-packages/atari_py/atari_roms/donkey_kong.bin\n",
      "copying carnival.bin from ./Roms/ROMS/Carnival (1982) (Coleco - Woodside Design Associates, Steve 'Jessica Stevens' Kitchen) (2468) ~.bin to /Users/shrutisharma/anaconda3/lib/python3.6/site-packages/atari_py/atari_roms/carnival.bin\n",
      "copying defender.bin from ./Roms/ROMS/Defender (1982) (Atari, Robert C. Polaro, Alan J. Murphy - Sears) (CX2609 - 49-75186) ~.bin to /Users/shrutisharma/anaconda3/lib/python3.6/site-packages/atari_py/atari_roms/defender.bin\n",
      "copying gopher.bin from ./Roms/ROMS/Gopher (Gopher Attack) (1982) (U.S. Games Corporation - JWDA, Sylvia Day, Todd Marshall, Robin McDaniel, Henry Will IV) (VC2001) ~.bin to /Users/shrutisharma/anaconda3/lib/python3.6/site-packages/atari_py/atari_roms/gopher.bin\n",
      "copying krull.bin from ./Roms/ROMS/Krull (1983) (Atari, Jerome Domurat, Dave Staugas) (CX2682) ~.bin to /Users/shrutisharma/anaconda3/lib/python3.6/site-packages/atari_py/atari_roms/krull.bin\n",
      "copying pacman.bin from ./Roms/ROMS/Pac-Man (1982) (Atari, Tod Frye) (CX2646) (PAL).bin to /Users/shrutisharma/anaconda3/lib/python3.6/site-packages/atari_py/atari_roms/pacman.bin\n",
      "copying surround.bin from ./Roms/ROMS/Surround (32 in 1) (Bit Corporation) (R320).bin to /Users/shrutisharma/anaconda3/lib/python3.6/site-packages/atari_py/atari_roms/surround.bin\n",
      "copying lost_luggage.bin from ./Roms/ROMS/Lost Luggage (Airport Mayhem) (1982) (Apollo - Games by Apollo, Larry Minor, Ernie Runyon, Ed Salvo) (AP-2004) [no opening scene] ~.bin to /Users/shrutisharma/anaconda3/lib/python3.6/site-packages/atari_py/atari_roms/lost_luggage.bin\n",
      "copying pong.bin from ./Roms/ROMS/Video Olympics - Pong Sports (Paddle) (1977) (Atari, Joe Decuir - Sears) (CX2621 - 99806, 6-99806, 49-75104) ~.bin to /Users/shrutisharma/anaconda3/lib/python3.6/site-packages/atari_py/atari_roms/pong.bin\n",
      "copying keystone_kapers.bin from ./Roms/ROMS/Keystone Kapers - Raueber und Gendarm (1983) (Activision, Garry Kitchen - Ariola) (EAX-025, EAX-025-04I - 711 025-725) (PAL).bin to /Users/shrutisharma/anaconda3/lib/python3.6/site-packages/atari_py/atari_roms/keystone_kapers.bin\n",
      "copying kung_fu_master.bin from ./Roms/ROMS/Kung-Fu Master (1987) (Activision - Imagineering, Dan Kitchen, Garry Kitchen) (AG-039-04) ~.bin to /Users/shrutisharma/anaconda3/lib/python3.6/site-packages/atari_py/atari_roms/kung_fu_master.bin\n",
      "copying trondead.bin from ./Roms/ROMS/TRON - Deadly Discs (TRON Joystick) (1983) (M Network - INTV - APh Technological Consulting, Jeff Ronne, Brett Stutz) (MT5662) ~.bin to /Users/shrutisharma/anaconda3/lib/python3.6/site-packages/atari_py/atari_roms/trondead.bin\n",
      "copying air_raid.bin from ./Roms/ROMS/Air Raid (Men-A-Vision) (PAL) ~.bin to /Users/shrutisharma/anaconda3/lib/python3.6/site-packages/atari_py/atari_roms/air_raid.bin\n",
      "copying name_this_game.bin from ./Roms/ROMS/Name This Game (Guardians of Treasure) (1983) (U.S. Games Corporation - JWDA, Roger Booth, Sylvia Day, Ron Dubren, Todd Marshall, Robin McDaniel, Wes Trager, Henry Will IV) (VC1007) ~.bin to /Users/shrutisharma/anaconda3/lib/python3.6/site-packages/atari_py/atari_roms/name_this_game.bin\n",
      "copying king_kong.bin from ./Roms/ROMS/King Kong (1982) (Tigervision - Software Electronics Corporation, Karl T. Olinger - Teldec) (7-001 - 3.60001 VE) (PAL).bin to /Users/shrutisharma/anaconda3/lib/python3.6/site-packages/atari_py/atari_roms/king_kong.bin\n",
      "copying qbert.bin from ./Roms/ROMS/Q-bert (1983) (Parker Brothers - Western Technologies, Dave Hampton, Tom Sloper) (PB5360) ~.bin to /Users/shrutisharma/anaconda3/lib/python3.6/site-packages/atari_py/atari_roms/qbert.bin\n",
      "copying robotank.bin from ./Roms/ROMS/Robot Tank (Robotank) (1983) (Activision, Alan Miller) (AZ-028, AG-028-04) ~.bin to /Users/shrutisharma/anaconda3/lib/python3.6/site-packages/atari_py/atari_roms/robotank.bin\n",
      "copying skiing.bin from ./Roms/ROMS/Skiing - Le Ski (1980) (Activision, Bob Whitehead) (AG-005, CAG-005, AG-005-04) ~.bin to /Users/shrutisharma/anaconda3/lib/python3.6/site-packages/atari_py/atari_roms/skiing.bin\n",
      "copying hero.bin from ./Roms/ROMS/H.E.R.O. (1984) (Activision, John Van Ryzin) (AZ-036-04) ~.bin to /Users/shrutisharma/anaconda3/lib/python3.6/site-packages/atari_py/atari_roms/hero.bin\n",
      "copying star_gunner.bin from ./Roms/ROMS/Stargunner (1983) (Telesys, Alex Leavens) (1005) ~.bin to /Users/shrutisharma/anaconda3/lib/python3.6/site-packages/atari_py/atari_roms/star_gunner.bin\n",
      "copying tutankham.bin from ./Roms/ROMS/Tutankham (1983) (Parker Brothers, Dave Engman, Dawn Stockbridge) (PB5340) ~.bin to /Users/shrutisharma/anaconda3/lib/python3.6/site-packages/atari_py/atari_roms/tutankham.bin\n",
      "copying gravitar.bin from ./Roms/ROMS/Gravitar (1983) (Atari, Dan Hitchens, Mimi Nyden) (CX2685) ~.bin to /Users/shrutisharma/anaconda3/lib/python3.6/site-packages/atari_py/atari_roms/gravitar.bin\n",
      "copying jamesbond.bin from ./Roms/ROMS/James Bond 007 (James Bond Agent 007) (1984) (Parker Brothers - On-Time Software, Joe Gaucher, Louis Marbel) (PB5110) ~.bin to /Users/shrutisharma/anaconda3/lib/python3.6/site-packages/atari_py/atari_roms/jamesbond.bin\n",
      "copying montezuma_revenge.bin from ./Roms/ROMS/Montezuma's Revenge - Featuring Panama Joe (1984) (Parker Brothers - JWDA, Henry Will IV) (PB5760) ~.bin to /Users/shrutisharma/anaconda3/lib/python3.6/site-packages/atari_py/atari_roms/montezuma_revenge.bin\n",
      "copying venture.bin from ./Roms/ROMS/Venture (1982) (Coleco, Joseph Biel) (2457) ~.bin to /Users/shrutisharma/anaconda3/lib/python3.6/site-packages/atari_py/atari_roms/venture.bin\n",
      "copying pitfall.bin from ./Roms/ROMS/Pitfall! - Pitfall Harry's Jungle Adventure (Jungle Runner) (1982) (Activision, David Crane) (AX-018, AX-018-04) ~.bin to /Users/shrutisharma/anaconda3/lib/python3.6/site-packages/atari_py/atari_roms/pitfall.bin\n",
      "copying laser_gates.bin from ./Roms/ROMS/Laser Gates (AKA Innerspace) (1983) (Imagic, Dan Oliver) (720118-2A, 13208, EIX-007-04I) (PAL).bin to /Users/shrutisharma/anaconda3/lib/python3.6/site-packages/atari_py/atari_roms/laser_gates.bin\n",
      "copying tennis.bin from ./Roms/ROMS/Tennis - Le Tennis (1981) (Activision, Alan Miller) (AG-007, CAG-007) ~.bin to /Users/shrutisharma/anaconda3/lib/python3.6/site-packages/atari_py/atari_roms/tennis.bin\n",
      "copying space_invaders.bin from ./Roms/ROMS/Space Invaders (1980) (Atari, Richard Maurer - Sears) (CX2632 - 49-75153) ~.bin to /Users/shrutisharma/anaconda3/lib/python3.6/site-packages/atari_py/atari_roms/space_invaders.bin\n",
      "copying mr_do.bin from ./Roms/ROMS/Mr. Do! (1983) (CBS Electronics, Ed English) (4L4478) (PAL).bin to /Users/shrutisharma/anaconda3/lib/python3.6/site-packages/atari_py/atari_roms/mr_do.bin\n",
      "copying up_n_down.bin from ./Roms/ROMS/Up 'n Down (1984) (SEGA - Beck-Tech, Steve Beck, Phat Ho) (009-01) ~.bin to /Users/shrutisharma/anaconda3/lib/python3.6/site-packages/atari_py/atari_roms/up_n_down.bin\n",
      "copying kaboom.bin from ./Roms/ROMS/Kaboom! (Paddle) (1981) (Activision, Larry Kaplan, David Crane) (AG-010, AG-010-04) ~.bin to /Users/shrutisharma/anaconda3/lib/python3.6/site-packages/atari_py/atari_roms/kaboom.bin\n"
     ]
    },
    {
     "name": "stdout",
     "output_type": "stream",
     "text": [
      "copying galaxian.bin from ./Roms/ROMS/Galaxian (1983) (Atari - GCC, Mark Ackerman, Tom Calderwood, Glenn Parker) (CX2684) ~.bin to /Users/shrutisharma/anaconda3/lib/python3.6/site-packages/atari_py/atari_roms/galaxian.bin\n",
      "copying riverraid.bin from ./Roms/ROMS/River Raid (1982) (Activision, Carol Shaw) (AX-020, AX-020-04) ~.bin to /Users/shrutisharma/anaconda3/lib/python3.6/site-packages/atari_py/atari_roms/riverraid.bin\n",
      "copying enduro.bin from ./Roms/ROMS/Enduro (1983) (Activision, Larry Miller) (AX-026, AX-026-04) ~.bin to /Users/shrutisharma/anaconda3/lib/python3.6/site-packages/atari_py/atari_roms/enduro.bin\n",
      "copying amidar.bin from ./Roms/ROMS/Amidar (1982) (Parker Brothers, Ed Temple) (PB5310) ~.bin to /Users/shrutisharma/anaconda3/lib/python3.6/site-packages/atari_py/atari_roms/amidar.bin\n",
      "copying bowling.bin from ./Roms/ROMS/Bowling (1979) (Atari, Larry Kaplan - Sears) (CX2628 - 6-99842, 49-75117) ~.bin to /Users/shrutisharma/anaconda3/lib/python3.6/site-packages/atari_py/atari_roms/bowling.bin\n",
      "copying atlantis.bin from ./Roms/ROMS/Atlantis (Lost City of Atlantis) (1982) (Imagic, Dennis Koble) (720103-1A, 720103-1B, IA3203, IX-010-04) ~.bin to /Users/shrutisharma/anaconda3/lib/python3.6/site-packages/atari_py/atari_roms/atlantis.bin\n",
      "copying breakout.bin from ./Roms/ROMS/Breakout - Breakaway IV (Paddle) (1978) (Atari, Brad Stewart - Sears) (CX2622 - 6-99813, 49-75107) ~.bin to /Users/shrutisharma/anaconda3/lib/python3.6/site-packages/atari_py/atari_roms/breakout.bin\n",
      "copying phoenix.bin from ./Roms/ROMS/Phoenix (1983) (Atari - GCC, Mike Feinstein, John Mracek) (CX2673) ~.bin to /Users/shrutisharma/anaconda3/lib/python3.6/site-packages/atari_py/atari_roms/phoenix.bin\n",
      "copying asterix.bin from ./Roms/ROMS/Asterix (AKA Taz) (07-27-1983) (Atari, Jerome Domurat, Steve Woita) (CX2696) (Prototype).bin to /Users/shrutisharma/anaconda3/lib/python3.6/site-packages/atari_py/atari_roms/asterix.bin\n",
      "copying frostbite.bin from ./Roms/ROMS/Frostbite (1983) (Activision, Steve Cartwright) (AX-031) ~.bin to /Users/shrutisharma/anaconda3/lib/python3.6/site-packages/atari_py/atari_roms/frostbite.bin\n",
      "copying seaquest.bin from ./Roms/ROMS/Seaquest (1983) (Activision, Steve Cartwright) (AX-022) ~.bin to /Users/shrutisharma/anaconda3/lib/python3.6/site-packages/atari_py/atari_roms/seaquest.bin\n",
      "copying road_runner.bin from patched version of ./Roms/ROMS/Road Runner (1989) (Atari - Bobco, Robert C. Polaro) (CX2663) ~.bin to /Users/shrutisharma/anaconda3/lib/python3.6/site-packages/atari_py/atari_roms/road_runner.bin\n",
      "copying berzerk.bin from ./Roms/ROMS/Berzerk (1982) (Atari, Dan Hitchens - Sears) (CX2650 - 49-75168) ~.bin to /Users/shrutisharma/anaconda3/lib/python3.6/site-packages/atari_py/atari_roms/berzerk.bin\n",
      "copying ms_pacman.bin from ./Roms/ROMS/Ms. Pac-Man (1983) (Atari - GCC, Mark Ackerman, Glenn Parker) (CX2675) ~.bin to /Users/shrutisharma/anaconda3/lib/python3.6/site-packages/atari_py/atari_roms/ms_pacman.bin\n",
      "copying centipede.bin from ./Roms/ROMS/Centipede (1983) (Atari - GCC) (CX2676) ~.bin to /Users/shrutisharma/anaconda3/lib/python3.6/site-packages/atari_py/atari_roms/centipede.bin\n",
      "copying elevator_action.bin from ./Roms/ROMS/Elevator Action (1983) (Atari, Dan Hitchens) (CX26126) (Prototype) ~.bin to /Users/shrutisharma/anaconda3/lib/python3.6/site-packages/atari_py/atari_roms/elevator_action.bin\n",
      "copying double_dunk.bin from ./Roms/ROMS/Double Dunk (Super Basketball) (1989) (Atari, Matthew L. Hubbard) (CX26159) ~.bin to /Users/shrutisharma/anaconda3/lib/python3.6/site-packages/atari_py/atari_roms/double_dunk.bin\n",
      "copying assault.bin from ./Roms/ROMS/Assault (AKA Sky Alien) (1983) (Bomb - Onbase) (CA281).bin to /Users/shrutisharma/anaconda3/lib/python3.6/site-packages/atari_py/atari_roms/assault.bin\n",
      "copying ice_hockey.bin from ./Roms/ROMS/Ice Hockey - Le Hockey Sur Glace (1981) (Activision, Alan Miller) (AX-012, CAX-012, AX-012-04) ~.bin to /Users/shrutisharma/anaconda3/lib/python3.6/site-packages/atari_py/atari_roms/ice_hockey.bin\n",
      "copying zaxxon.bin from ./Roms/ROMS/Zaxxon (1983) (Coleco) (2454) ~.bin to /Users/shrutisharma/anaconda3/lib/python3.6/site-packages/atari_py/atari_roms/zaxxon.bin\n",
      "copying beam_rider.bin from ./Roms/ROMS/Beamrider (1984) (Activision - Cheshire Engineering, David Rolfe, Larry Zwick) (AZ-037-04) ~.bin to /Users/shrutisharma/anaconda3/lib/python3.6/site-packages/atari_py/atari_roms/beam_rider.bin\n",
      "copying sir_lancelot.bin from ./Roms/ROMS/Sir Lancelot (1983) (Xonox - K-Tel Software - Product Guild, Anthony R. Henderson) (99006, 6220) (PAL).bin to /Users/shrutisharma/anaconda3/lib/python3.6/site-packages/atari_py/atari_roms/sir_lancelot.bin\n",
      "copying wizard_of_wor.bin from ./Roms/ROMS/Wizard of Wor (1982) (CBS Electronics - Roklan, Joe Hellesen, Joe Wagner) (M8774, M8794) ~.bin to /Users/shrutisharma/anaconda3/lib/python3.6/site-packages/atari_py/atari_roms/wizard_of_wor.bin\n",
      "copying bank_heist.bin from ./Roms/ROMS/Bank Heist (Bonnie & Clyde, Cops 'n' Robbers, Hold-Up, Roaring 20's) (1983) (20th Century Fox Video Games, Bill Aspromonte) (11012) ~.bin to /Users/shrutisharma/anaconda3/lib/python3.6/site-packages/atari_py/atari_roms/bank_heist.bin\n",
      "copying private_eye.bin from ./Roms/ROMS/Private Eye (1984) (Activision, Bob Whitehead) (AG-034-04) ~.bin to /Users/shrutisharma/anaconda3/lib/python3.6/site-packages/atari_py/atari_roms/private_eye.bin\n",
      "copying battle_zone.bin from ./Roms/ROMS/Battlezone (1983) (Atari - GCC, Mike Feinstein, Brad Rice) (CX2681) ~.bin to /Users/shrutisharma/anaconda3/lib/python3.6/site-packages/atari_py/atari_roms/battle_zone.bin\n",
      "copying journey_escape.bin from ./Roms/ROMS/Journey Escape (1983) (Data Age, J. Ray Dettling) (112-006) ~.bin to /Users/shrutisharma/anaconda3/lib/python3.6/site-packages/atari_py/atari_roms/journey_escape.bin\n",
      "copying kangaroo.bin from ./Roms/ROMS/Kangaroo (1983) (Atari - GCC, Kevin Osborn) (CX2689) ~.bin to /Users/shrutisharma/anaconda3/lib/python3.6/site-packages/atari_py/atari_roms/kangaroo.bin\n",
      "copying boxing.bin from ./Roms/ROMS/Boxing - La Boxe (1980) (Activision, Bob Whitehead) (AG-002, CAG-002, AG-002-04) ~.bin to /Users/shrutisharma/anaconda3/lib/python3.6/site-packages/atari_py/atari_roms/boxing.bin\n",
      "copying fishing_derby.bin from ./Roms/ROMS/Fishing Derby (1980) (Activision, David Crane) (AG-004) ~.bin to /Users/shrutisharma/anaconda3/lib/python3.6/site-packages/atari_py/atari_roms/fishing_derby.bin\n",
      "copying freeway.bin from ./Roms/ROMS/Freeway (1981) (Activision, David Crane) (AG-009, AG-009-04) ~.bin to /Users/shrutisharma/anaconda3/lib/python3.6/site-packages/atari_py/atari_roms/freeway.bin\n",
      "copying pooyan.bin from ./Roms/ROMS/Pooyan (1983) (Konami) (RC 100-X 02) ~.bin to /Users/shrutisharma/anaconda3/lib/python3.6/site-packages/atari_py/atari_roms/pooyan.bin\n",
      "copying asteroids.bin from ./Roms/ROMS/Asteroids (1981) (Atari, Brad Stewart - Sears) (CX2649 - 49-75163) [no copyright] ~.bin to /Users/shrutisharma/anaconda3/lib/python3.6/site-packages/atari_py/atari_roms/asteroids.bin\n",
      "copying frogger.bin from ./Roms/ROMS/Frogger (1982) (Parker Brothers, Ed English, David Lamkins) (PB5300) ~.bin to /Users/shrutisharma/anaconda3/lib/python3.6/site-packages/atari_py/atari_roms/frogger.bin\n",
      "copying chopper_command.bin from ./Roms/ROMS/Chopper Command (1982) (Activision, Bob Whitehead) (AX-015, AX-015-04) ~.bin to /Users/shrutisharma/anaconda3/lib/python3.6/site-packages/atari_py/atari_roms/chopper_command.bin\n",
      "copying time_pilot.bin from ./Roms/ROMS/Time Pilot (1983) (Coleco - Woodside Design Associates, Harley H. Puthuff Jr.) (2663) ~.bin to /Users/shrutisharma/anaconda3/lib/python3.6/site-packages/atari_py/atari_roms/time_pilot.bin\n",
      "copying adventure.bin from ./Roms/ROMS/Adventure (1980) (Atari, Warren Robinett) (CX2613, CX2613P) (PAL).bin to /Users/shrutisharma/anaconda3/lib/python3.6/site-packages/atari_py/atari_roms/adventure.bin\n",
      "copying solaris.bin from ./Roms/ROMS/Solaris (The Last Starfighter, Star Raiders II, Universe) (1986) (Atari, Douglas Neubauer, Mimi Nyden) (CX26136) ~.bin to /Users/shrutisharma/anaconda3/lib/python3.6/site-packages/atari_py/atari_roms/solaris.bin\n"
     ]
    }
   ],
   "source": [
    "!python -m atari_py.import_roms ./Roms/ROMS"
   ]
  },
  {
   "cell_type": "code",
   "execution_count": null,
   "id": "47470eb7",
   "metadata": {},
   "outputs": [],
   "source": []
  }
 ],
 "metadata": {
  "kernelspec": {
   "display_name": "Python 3",
   "language": "python",
   "name": "python3"
  },
  "language_info": {
   "codemirror_mode": {
    "name": "ipython",
    "version": 3
   },
   "file_extension": ".py",
   "mimetype": "text/x-python",
   "name": "python",
   "nbconvert_exporter": "python",
   "pygments_lexer": "ipython3",
   "version": "3.6.8"
  }
 },
 "nbformat": 4,
 "nbformat_minor": 5
}
