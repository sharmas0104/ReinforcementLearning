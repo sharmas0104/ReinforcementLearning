{
 "cells": [
  {
   "cell_type": "markdown",
   "id": "c36fb29b",
   "metadata": {},
   "source": [
    "# MC Control - Blackjack Environment"
   ]
  },
  {
   "cell_type": "code",
   "execution_count": 1,
   "id": "25b9f75d",
   "metadata": {},
   "outputs": [],
   "source": [
    "def incremental_Q(state_action_freq, state_action_Q, total_return): \n",
    "    \n",
    "    \n",
    "    temp_diff = total_return - state_action_Q               #state_action_return\n",
    "    updated_Q = state_action_Q + (1/state_action_freq) * (temp_diff)\n",
    "    \n",
    "\n",
    "    return updated_Q"
   ]
  },
  {
   "cell_type": "code",
   "execution_count": null,
   "id": "57044e51",
   "metadata": {},
   "outputs": [],
   "source": [
    "def mc_control():     \n",
    "    \n",
    "    sa_rewards = {}\n",
    "    sa_Q= {}\n",
    "    sa_optimQ = {}\n",
    "    num_state_val_pair = {} \n",
    "    eplison = 0.5\n",
    "    \n",
    "    for i in range(num_eps):\n",
    "        \n",
    "        #generate new dealer and player every game. so, generate an episode.\n",
    "    \n",
    "        is_terminal = False # means that game is NOT over. \n",
    "        \n",
    "        while not is_terminal: \n",
    "\n",
    "            action = random.randint(0,1) # epsilon policy\n",
    "            n_state, reward, is_terminal, info = env.step(action)\n",
    "            #print((state, action))\n",
    "            episode_sa.append((state, action))\n",
    "            rewards_sa.append(reward)\n",
    "            \n",
    "        is_terminal = False\n",
    "        \n",
    "        #first occurrence logic\n",
    "        visited_sa = []\n",
    "        for i in range(len(episode_sa)): \n",
    "            \n",
    "            if episode_sa[i] not in visited_sa: \n",
    "                \n",
    "                # accumulate award after first occurrence. \n",
    "                sa_rewards[episode_sa[i]] = []\n",
    "                sa_rewards[episode_sa[i]].append(sum(reward_sa[i:]))\n",
    "                \n",
    "                # start the count for the number of times the first occurence shows up\n",
    "                num_state_value_pair[episode_sa[i]] = 1\n",
    "                \n",
    "                # fresh Q value and dict list value\n",
    "                \n",
    "                sa_Q[episode_sa[i]] = [0]\n",
    "                \n",
    "                # add to visited list\n",
    "                visited_sa.append(episode_sa[i])\n",
    "            else:\n",
    "                 num_state_value_pair[episode_sa[i]] += 1\n",
    "                \n",
    "           #is this right?\n",
    "            sa_Q[episode_sa[i]].append(incremental_Q(num_state_value_pair[episode_sa[i]], sa_Q[episode_sa[i]], sa_rewards[episode_sa[i]]))\n",
    "                \n",
    "        # e-greedy!!\n",
    "         \n",
    "        visited_state\n",
    "        for key, val in sa_Q(): \n",
    "            \n",
    "            \n",
    "            \n",
    "            \n",
    "        "
   ]
  }
 ],
 "metadata": {
  "kernelspec": {
   "display_name": "Python 3",
   "language": "python",
   "name": "python3"
  },
  "language_info": {
   "codemirror_mode": {
    "name": "ipython",
    "version": 3
   },
   "file_extension": ".py",
   "mimetype": "text/x-python",
   "name": "python",
   "nbconvert_exporter": "python",
   "pygments_lexer": "ipython3",
   "version": "3.6.8"
  }
 },
 "nbformat": 4,
 "nbformat_minor": 5
}
