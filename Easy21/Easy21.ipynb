{
 "cells": [
  {
   "cell_type": "markdown",
   "metadata": {},
   "source": [
    "# Easy 21 Environment - A Python Class\n",
    "\n",
    "Object of the game is to beat the dealer in any situation\n",
    "\n",
    "im guessing the game ends when the dealer sticks and the player score is less than the dealer score. "
   ]
  },
  {
   "cell_type": "code",
   "execution_count": 9,
   "metadata": {},
   "outputs": [],
   "source": [
    "class Easy21():\n",
    "    \n",
    "    \n",
    "    # need to make sure that you can only enter either dealer of player, not both \n",
    "    def __init__(self, dealer = True, player = False): #dealer = False, player = False):\n",
    "      \n",
    "        # check whether the opponent is a dealer or a player. \n",
    "        #This is improtant because the functionality changes based on this information. \n",
    "        self.dealer = dealer\n",
    "        self.player = player\n",
    "        \n",
    "        # all initial settings are set to 0 or indicate that nothing has happened\n",
    "        self.card_color = 'nothing dealt'\n",
    "        self.card = 0\n",
    "        self.card_score = 0\n",
    "        self.num_cards_dealt = 0\n",
    "        self.first_card = \"nothing dealt\"\n",
    "        self.reward = 0;\n",
    "    \n",
    "    def deal_card(self): \n",
    "    \n",
    "        import random\n",
    "        \n",
    "        card_color_num = 0 \n",
    "        \n",
    "        if self.num_cards_dealt != 0:\n",
    "            \n",
    "            card_color_num = random.randint(1,9);\n",
    "            \n",
    "            \n",
    "        self.card = random.randint(1,10)\n",
    "        \n",
    "        \n",
    "        if self.num_cards_dealt == 0:\n",
    "            self.card_color = 'black'\n",
    "            self.card_score += self.card\n",
    "\n",
    "        elif (card_color_num <= 3): \n",
    "\n",
    "            self.card_color = 'red'\n",
    "            self.card_score -= self.card\n",
    "        else:\n",
    "\n",
    "            self.card_color = 'black'\n",
    "            self.card_score += self.card\n",
    "            \n",
    "        if self.first_card == \"nothing dealt\": \n",
    "            self.first_card = self.card_color + ' ' + str(self.card)      \n",
    "        self.num_cards_dealt += 1\n",
    "        \n",
    "        \n",
    "    \n",
    "    def get_card_state(self):\n",
    "        \n",
    "        print(self.card_color + ' ' + str(self.card))\n",
    "        \n",
    "            \n",
    "   # def play(self):\n",
    "        \n",
    "        #if self.dealer: \n",
    "            \n",
    "           # while self.card_score < 17:\n",
    "               # self.hit()\n",
    "               # if self.card_score > 21 or self.card_score < 1:\n",
    "                   # reward = -1\n",
    "                   # print('lose')\n",
    "            \n",
    "       # if (self.card_score > 21 or self.card_score < 1):\n",
    "\n",
    "                #reward = -1\n",
    "               # print('lose')\n",
    "       \n",
    "                \n",
    "                \n",
    "        \n",
    "    def hit(self):\n",
    "        \n",
    "        self.deal_card()\n",
    "        print('hit')\n",
    "    \n",
    "    def stick(self):\n",
    "        \n",
    "        print('stick')\n",
    "        \n"
   ]
  },
  {
   "cell_type": "markdown",
   "metadata": {},
   "source": [
    "# Test out current Easy21 class"
   ]
  },
  {
   "cell_type": "code",
   "execution_count": 10,
   "metadata": {},
   "outputs": [],
   "source": [
    "dealer = Easy21()\n",
    "dealer.deal_card()"
   ]
  },
  {
   "cell_type": "code",
   "execution_count": 11,
   "metadata": {},
   "outputs": [
    {
     "data": {
      "text/plain": [
       "'black 10'"
      ]
     },
     "execution_count": 11,
     "metadata": {},
     "output_type": "execute_result"
    }
   ],
   "source": [
    "dealer.first_card"
   ]
  },
  {
   "cell_type": "code",
   "execution_count": 12,
   "metadata": {},
   "outputs": [
    {
     "data": {
      "text/plain": [
       "10"
      ]
     },
     "execution_count": 12,
     "metadata": {},
     "output_type": "execute_result"
    }
   ],
   "source": [
    "dealer.card_score"
   ]
  },
  {
   "cell_type": "code",
   "execution_count": 13,
   "metadata": {},
   "outputs": [
    {
     "name": "stdout",
     "output_type": "stream",
     "text": [
      "hit\n"
     ]
    }
   ],
   "source": [
    "dealer.hit()"
   ]
  },
  {
   "cell_type": "code",
   "execution_count": 15,
   "metadata": {},
   "outputs": [
    {
     "name": "stdout",
     "output_type": "stream",
     "text": [
      "red 3\n"
     ]
    }
   ],
   "source": [
    "dealer.get_card_state()"
   ]
  },
  {
   "cell_type": "markdown",
   "metadata": {},
   "source": [
    "# The Step Function"
   ]
  },
  {
   "cell_type": "code",
   "execution_count": 17,
   "metadata": {},
   "outputs": [],
   "source": [
    "#step function pseudo code\n",
    "\n",
    "\n",
    "def step(dealer_first_card, player_sum, a):\n",
    "    \n",
    "    \n",
    "    successor_state = (dealer_first_card, player_sum)\n",
    "    reward = 0; \n",
    "    if a == \"hit\": \n",
    "        player.hit()\n",
    "        player_sum = player.card_score\n",
    "        \n",
    "        #if the player hits and the card score becomes in over 21 or under 1, the lose, getting a -1 reward\n",
    "        if (self.card_score > 21 or self.card_score < 1):\n",
    "            reward = -1\n",
    "            player.reward = -1\n",
    "        \n",
    "        # if after hitting the score = 21, then they win, getting +1 reward. \n",
    "        if self.card_score == 21: \n",
    "            reward = 1\n",
    "            player.reward = 1\n",
    "        \n",
    "        #if neither of these above events happen, the reward stays 0. \n",
    "        \n",
    "        return successor_state, reward\n",
    "            \n",
    "    # this is when the player decides to \"stick\". This means the dealer starts taking turns. The dealer has to keep \n",
    "    #hitting until the sum of his cards is 17 or greater\n",
    "    else: \n",
    "    #The dealer has to keep \n",
    "    #hitting until the sum of his cards is 17 or greater\n",
    "        while dealer.card_score < 17:\n",
    "            dealer.hit()\n",
    "            # if at any point while he is pulling cards the card sum goes under 1, the player wins, getting +1 reward\n",
    "            if dealer.card_score < 1:\n",
    "                reward = 1\n",
    "                player.reward = 1\n",
    "                return successor_state,reward\n",
    "        \n",
    "        #if after the dealer card sum is 21 after exceeding 17, the player wings, getting +1 reward. \n",
    "        if dealer.card_score > 21:\n",
    "            reward = 1\n",
    "            player.reward = 1\n",
    "            return successor_state, reward\n",
    "        # if the dealer is still within conditions, the scores of the dealer and player are compared. if the dealer's score\n",
    "        #is greater than the player's score, then the dealer wins, and vice versa. \n",
    "        else: \n",
    "            if dealer.card_score > player_sum:\n",
    "                player.reward = -1\n",
    "                return successor_state, reward\n",
    "            elif dealer.card_score == player_sum:\n",
    "                return successor_state, reward\n",
    "            else: \n",
    "                player.reward += 1\n",
    "                return successor_state, reward    \n",
    "        "
   ]
  },
  {
   "cell_type": "markdown",
   "metadata": {},
   "source": [
    "It looks like I have an okay enough implementation of the Step Function. But I'm not sure I'm returning the right things. It doesn't make sense to me how "
   ]
  },
  {
   "cell_type": "code",
   "execution_count": null,
   "metadata": {},
   "outputs": [],
   "source": []
  },
  {
   "cell_type": "code",
   "execution_count": null,
   "metadata": {},
   "outputs": [],
   "source": []
  },
  {
   "cell_type": "code",
   "execution_count": null,
   "metadata": {},
   "outputs": [],
   "source": []
  },
  {
   "cell_type": "code",
   "execution_count": null,
   "metadata": {},
   "outputs": [],
   "source": []
  },
  {
   "cell_type": "code",
   "execution_count": null,
   "metadata": {},
   "outputs": [],
   "source": []
  },
  {
   "cell_type": "code",
   "execution_count": null,
   "metadata": {},
   "outputs": [],
   "source": []
  }
 ],
 "metadata": {
  "kernelspec": {
   "display_name": "Python 3",
   "language": "python",
   "name": "python3"
  },
  "language_info": {
   "codemirror_mode": {
    "name": "ipython",
    "version": 3
   },
   "file_extension": ".py",
   "mimetype": "text/x-python",
   "name": "python",
   "nbconvert_exporter": "python",
   "pygments_lexer": "ipython3",
   "version": "3.6.8"
  }
 },
 "nbformat": 4,
 "nbformat_minor": 2
}
