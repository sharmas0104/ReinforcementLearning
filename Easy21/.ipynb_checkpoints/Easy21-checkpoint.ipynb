{
 "cells": [
  {
   "cell_type": "markdown",
   "metadata": {},
   "source": [
    "# Easy 21 Environment - A Python Class\n",
    "\n",
    "Object of the game is to beat the dealer in any situation\n",
    "\n",
    "im guessing the game ends when the dealer sticks and the player score is less than the dealer score. "
   ]
  },
  {
   "cell_type": "code",
   "execution_count": 2,
   "metadata": {},
   "outputs": [],
   "source": [
    "class Easy21():\n",
    "    \n",
    "    \n",
    "    # need to make sure that you can only enter either dealer of player, not both \n",
    "    def __init__(self, dealer = True, player = False): #dealer = False, player = False):\n",
    "      \n",
    "        # check whether the opponent is a dealer or a player. \n",
    "        #This is improtant because the functionality changes based on this information. \n",
    "        self.dealer = dealer\n",
    "        self.player = player\n",
    "        \n",
    "        # all initial settings are set to 0 or indicate that nothing has happened\n",
    "        self.card_color = 'nothing dealt'\n",
    "        self.card = 0\n",
    "        self.card_score = 0\n",
    "        self.num_cards_dealt = 0\n",
    "        self.first_card = \"nothing dealt\"\n",
    "        self.reward = 0;\n",
    "    \n",
    "    def deal_card(self): \n",
    "    \n",
    "        import random\n",
    "        \n",
    "        card_color_num = 0 \n",
    "        \n",
    "        if self.num_cards_dealt != 0:\n",
    "            \n",
    "            card_color_num = random.randint(1,9);\n",
    "            \n",
    "            \n",
    "        self.card = random.randint(1,10)\n",
    "        \n",
    "        \n",
    "        if self.num_cards_dealt == 0:\n",
    "            self.card_color = 'black'\n",
    "            self.card_score += self.card\n",
    "\n",
    "        elif (card_color_num <= 3): \n",
    "\n",
    "            self.card_color = 'red'\n",
    "            self.card_score -= self.card\n",
    "        else:\n",
    "\n",
    "            self.card_color = 'black'\n",
    "            self.card_score += self.card\n",
    "            \n",
    "        if self.first_card == \"nothing dealt\": \n",
    "            self.first_card = self.card_color + ' ' + str(self.card)      \n",
    "        self.num_cards_dealt += 1\n",
    "        \n",
    "        \n",
    "    \n",
    "    def get_card_state(self):\n",
    "        \n",
    "        print(self.card_color + ' ' + str(self.card))\n",
    "        \n",
    "            \n",
    "   # def play(self):\n",
    "        \n",
    "        #if self.dealer: \n",
    "            \n",
    "           # while self.card_score < 17:\n",
    "               # self.hit()\n",
    "               # if self.card_score > 21 or self.card_score < 1:\n",
    "                   # reward = -1\n",
    "                   # print('lose')\n",
    "            \n",
    "       # if (self.card_score > 21 or self.card_score < 1):\n",
    "\n",
    "                #reward = -1\n",
    "               # print('lose')\n",
    "       \n",
    "                \n",
    "                \n",
    "        \n",
    "    def hit(self):\n",
    "        \n",
    "        self.deal_card()\n",
    "        print('hit')\n",
    "    \n",
    "    def stick(self):\n",
    "        \n",
    "        print('stick')\n",
    "        \n"
   ]
  },
  {
   "cell_type": "markdown",
   "metadata": {},
   "source": [
    "# The Step Function"
   ]
  },
  {
   "cell_type": "code",
   "execution_count": 49,
   "metadata": {},
   "outputs": [],
   "source": [
    "#step function pseudo code\n",
    "\n",
    "\n",
    "def step(dealer_first_card, player_sum, a):\n",
    "    \n",
    "    \n",
    "    \n",
    "    reward = 0; \n",
    "    if a == \"hit\": \n",
    "        \n",
    "        player.hit()\n",
    "        player_sum = player.card_score\n",
    "    \n",
    "        \n",
    "        #if the player hits and the card score becomes in over 21 or under 1, the lose, getting a -1 reward\n",
    "        if (player.card_score > 21 or player.card_score < 1):\n",
    "            reward = -1\n",
    "            player.reward = -1\n",
    "        \n",
    "        # if after hitting the score = 21, then they win, getting +1 reward. \n",
    "        if player.card_score == 21: \n",
    "            reward = 1\n",
    "            player.reward = 1\n",
    "        \n",
    "        #if neither of these above events happen, the reward stays 0. \n",
    "        successor_state = (dealer_first_card, player_sum)\n",
    "        return successor_state, reward\n",
    "            \n",
    "    # this is when the player decides to \"stick\". This means the dealer starts taking turns. The dealer has to keep \n",
    "    #hitting until the sum of his cards is 17 or greater\n",
    "    else: \n",
    "    #The dealer has to keep \n",
    "    #hitting until the sum of his cards is 17 or greater\n",
    "        while dealer.card_score < 17:\n",
    "            dealer.hit()\n",
    "            dealer.get_card_state()\n",
    "            \n",
    "        \n",
    "            print(dealer.card_score)\n",
    "            # if at any point while he is pulling cards the card sum goes under 1, the player wins, getting +1 reward\n",
    "            if dealer.card_score < 1:\n",
    "                reward = 1\n",
    "                player.reward = 1\n",
    "                successor_state = (dealer_first_card, player_sum)\n",
    "                return successor_state,reward\n",
    "        \n",
    "        #if after the dealer card sum is 21 after exceeding 17, the player wings, getting +1 reward. \n",
    "        if dealer.card_score > 21:\n",
    "            reward = 1\n",
    "            player.reward = 1\n",
    "            successor_state = (dealer_first_card, player_sum)\n",
    "            return successor_state, reward\n",
    "        # if the dealer is still within conditions, the scores of the dealer and player are compared. if the dealer's score\n",
    "        #is greater than the player's score, then the dealer wins, and vice versa. \n",
    "        else: \n",
    "            if dealer.card_score > player_sum:\n",
    "                player.reward = -1\n",
    "                successor_state = (dealer_first_card, player_sum)\n",
    "                return successor_state, reward\n",
    "            elif dealer.card_score == player_sum:\n",
    "                successor_state = (dealer_first_card, player_sum)\n",
    "                return successor_state, reward\n",
    "            else: \n",
    "                successor_state = (dealer_first_card, player_sum)\n",
    "                player.reward += 1\n",
    "                return successor_state, reward    \n",
    "        "
   ]
  },
  {
   "cell_type": "markdown",
   "metadata": {},
   "source": [
    "### Testing out the Step Function"
   ]
  },
  {
   "cell_type": "code",
   "execution_count": 58,
   "metadata": {},
   "outputs": [
    {
     "data": {
      "text/plain": [
       "'black 4'"
      ]
     },
     "execution_count": 58,
     "metadata": {},
     "output_type": "execute_result"
    }
   ],
   "source": [
    "dealer = Easy21()\n",
    "dealer.deal_card()\n",
    "dealer.first_card"
   ]
  },
  {
   "cell_type": "code",
   "execution_count": 59,
   "metadata": {},
   "outputs": [
    {
     "name": "stdout",
     "output_type": "stream",
     "text": [
      "black 1\n",
      "1\n"
     ]
    }
   ],
   "source": [
    "player = Easy21(dealer = False, player = True)\n",
    "player.deal_card()\n",
    "print(player.first_card)\n",
    "print(player.card_score)"
   ]
  },
  {
   "cell_type": "code",
   "execution_count": 60,
   "metadata": {},
   "outputs": [
    {
     "name": "stdout",
     "output_type": "stream",
     "text": [
      "hit\n"
     ]
    },
    {
     "data": {
      "text/plain": [
       "(('black 4', 2), 0)"
      ]
     },
     "execution_count": 60,
     "metadata": {},
     "output_type": "execute_result"
    }
   ],
   "source": [
    "step(dealer.first_card, player.card_score, \"hit\")"
   ]
  },
  {
   "cell_type": "code",
   "execution_count": 61,
   "metadata": {},
   "outputs": [
    {
     "name": "stdout",
     "output_type": "stream",
     "text": [
      "hit\n"
     ]
    },
    {
     "data": {
      "text/plain": [
       "(('black 4', 0), -1)"
      ]
     },
     "execution_count": 61,
     "metadata": {},
     "output_type": "execute_result"
    }
   ],
   "source": [
    "step(dealer.first_card, player.card_score, \"hit\")"
   ]
  },
  {
   "cell_type": "code",
   "execution_count": 41,
   "metadata": {},
   "outputs": [
    {
     "data": {
      "text/plain": [
       "(('black 7', 18), 0)"
      ]
     },
     "execution_count": 41,
     "metadata": {},
     "output_type": "execute_result"
    }
   ],
   "source": [
    "step(dealer.first_card, player.card_score, \"stick\")"
   ]
  },
  {
   "cell_type": "markdown",
   "metadata": {},
   "source": [
    "It looks like I have an okay enough implementation of the Step Function. But I'm not sure I'm returning the right things. It doesn't make sense to me how "
   ]
  },
  {
   "cell_type": "markdown",
   "metadata": {},
   "source": [
    "# Monte Carlo Policy Evaluation - Model Free Prediction\n",
    "Estimating the value function"
   ]
  },
  {
   "cell_type": "markdown",
   "metadata": {},
   "source": [
    "### First Visit Monte Carlo Policy Evaluation"
   ]
  },
  {
   "cell_type": "markdown",
   "metadata": {},
   "source": [
    "I don't want to worry about control right now. \n",
    "1. Add the functionality that indicates when a game actually terminates. \n",
    "2. Initial value function to 0\n",
    "3. Generate random actions until the game terminates (until the reward does not equal 0)\n",
    "4. when an episode terminates, generate a new player and dealer. \n",
    "5. For each episode, count how many times a state action pair occurs, and then get the reward that comes after it. \n",
    "6. \n",
    " \n"
   ]
  },
  {
   "cell_type": "code",
   "execution_count": null,
   "metadata": {},
   "outputs": [],
   "source": [
    "def first_visit_mc():\n",
    "    \n",
    "    #dictionaries\n",
    "    \n",
    "    num_state_val_pair = {} # stores the number of time each state shows up\n",
    "    state_val_pair_return = {} # stored the accumulated reward and is incremented every time a reward is achieved from that state\n",
    "    state_val_pair_Q = {} #stores the action value for each action value pair. \n",
    "    \n",
    "    \n",
    "    action_value_function = 0\n",
    "    num_episodes = 1000\n",
    "    \n",
    "    for i in range(num_episodes):\n",
    "        \n",
    "        #generate new dealer and player every game\n",
    "        dealer = Easy21()\n",
    "        dealer.deal_card()\n",
    "        player = Easy21(dealer = False, player = True)\n",
    "        player.deal_card()\n",
    "        \n",
    "        #generate a random action with a 50/50 policy. function rand_action()\n",
    "\n",
    "        #general count for the reward accumulated. \n",
    "        accumulated_reward = 0\n",
    "        is_terminal = False #meaning that the game is NOT over. an episode ends when the game ends. \n",
    "        \n",
    "        state, step_reward =  step(dealer.first_card, player.card_score, rand_action()) # one action is taken and the result of that action is stored. \n",
    "        \n",
    "        #if the state and reward that was outputted from the step action is not in this dictionary, that means this is the first time it was visited.\n",
    "        \n",
    "        accumulated_reward += step_reward\n",
    "        \n",
    "        if not (state, step_reward) in num_state_val_pair.keys(): \n",
    "            #make a new key value pair, and make the value 1, signifying that the value has showed up once. \n",
    "            num_state_val_pair[(state, step_reward)] = 1\n",
    "            #whatever reward was received is also stored as a new key value pair\n",
    "            state_val_pair_return[(state, step_reward)] = step_reward       #what is was before: step_reward\n",
    "            # right now, the value is just initialized to 0. \n",
    "            state_val_pair_Q[(state, step_reward)] = 0\n",
    "            \n",
    "        #at this point, we have generated at least one step of the game. now we have to assess if the game goes on. \n",
    "        #honestly, do we even need that first part? it's repeated inside the loop anyway. \n",
    "        \n",
    "        while not is_terminal:  #while the game is still on, i.e. no one has received an award...\n",
    "            \n",
    "            #if the state and reward that was outputted from the step action is not in this dictionary, that means this is the first time it was visited.\n",
    "            state, step_reward = step(dealer.first_card, player.card_score, rand_action()) #take another action, store the result. \n",
    "            \n",
    "            if not (state, step_reward) in num_state_val_pair.keys(): \n",
    "                #make a new key value pair, and make the value 1, signifying that the value has showed up once. \n",
    "                num_state_val_pair[(state, step_reward)] = 1\n",
    "                #whatever reward was received is also stored as a new key value pair\n",
    "                state_val_pair_return[(state, step_reward)] = step_reward      #what is was before: step_reward\n",
    "                # right now, the value is just initialized to 0. \n",
    "                state_val_pair_Q[(state, step_reward)] = 0\n",
    "                \n",
    "            #else: #if the state action pair HAS ALREADY been observed...\n",
    "               #  num_state_val_pair[(state, step_reward)] += 1 I don't think I need this anymore. the whole logic is wrong. HOIAFHOSIDHFoih\n",
    "                \n",
    "           #NEW POTENTIAL FIX: update all values in the state_val_pair_return dict by whatever the accumulated reward is. I'll us a loop for now, I guess.      \n",
    "           #I feel like this should work.  \n",
    "            for key, val in state_val_pair_return: \n",
    "                \n",
    "                state_val_pair_return[key] += accumulated_reward #what is was before: step_reward #add to the reward\n",
    "                \n",
    "                \n",
    "            if step_reward != 0: \n",
    "                is_terminal = True\n",
    "        \n",
    "        \n",
    "        \n",
    "      \n",
    "    #once all of the episodes run, you have to calculate the q values for each state/action pair \n",
    "    #in your dictonaries. but what about incremental mean?\n",
    "    #okay, do the first way, and then try incremental mean. AIHFOISDHFF\n",
    "    \n",
    "    "
   ]
  },
  {
   "cell_type": "code",
   "execution_count": 2,
   "metadata": {},
   "outputs": [],
   "source": [
    "def rand_action():\n",
    "    \n",
    "    import random\n",
    "    random_action = ''\n",
    "    random_num = random.randint(1,2)\n",
    "    if random_num == 1: \n",
    "        random_action = \"hit\"\n",
    "    else: \n",
    "        random_action = \"stick\"\n",
    "    return random_action\n",
    "    "
   ]
  },
  {
   "cell_type": "code",
   "execution_count": null,
   "metadata": {},
   "outputs": [],
   "source": []
  }
 ],
 "metadata": {
  "kernelspec": {
   "display_name": "Python 3",
   "language": "python",
   "name": "python3"
  },
  "language_info": {
   "codemirror_mode": {
    "name": "ipython",
    "version": 3
   },
   "file_extension": ".py",
   "mimetype": "text/x-python",
   "name": "python",
   "nbconvert_exporter": "python",
   "pygments_lexer": "ipython3",
   "version": "3.7.4"
  }
 },
 "nbformat": 4,
 "nbformat_minor": 2
}
