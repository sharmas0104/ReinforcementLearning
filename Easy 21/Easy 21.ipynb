{
 "cells": [
  {
   "cell_type": "markdown",
   "metadata": {},
   "source": [
    "# Easy 21 Environment - A Python Class\n",
    "\n",
    "Object of the game is to beat the dealer in any situation\n",
    "\n",
    "im guessing the game ends when the dealer sticks and the player score is less than the dealer score. "
   ]
  },
  {
   "cell_type": "code",
   "execution_count": 2,
   "metadata": {},
   "outputs": [],
   "source": [
    "class Easy21():\n",
    "    \n",
    "    \n",
    "    # need to make sure that you can only enter either dealer of player, not both \n",
    "    def __init__(self): #dealer = False, player = False):\n",
    "      \n",
    "        self.card_color = 'nothing dealt'\n",
    "        self.card = 0\n",
    "        self.card_score = 0\n",
    "        self.num_cards_dealt = 0\n",
    "        self.reward = 0\n",
    "    \n",
    "    def deal_card(self): \n",
    "    \n",
    "        import random\n",
    "        \n",
    "        card_color_num = 0\n",
    "        \n",
    "        if self.num_cards_dealt != 0:\n",
    "            \n",
    "            card_color_num = random.randint(1,9);\n",
    "            \n",
    "            \n",
    "        self.card = random.randint(1,10)\n",
    "    \n",
    "\n",
    "        if (card_color_num <= 3): \n",
    "\n",
    "            self.card_color = 'red'\n",
    "            self.card_score -= 1\n",
    "        else:\n",
    "\n",
    "            self.card_color = 'black'\n",
    "            self.card_score += 1\n",
    "            \n",
    "        self.num_cards_dealt += 1\n",
    "        \n",
    "    def get_card_state(self):\n",
    "        \n",
    "        print(self.card_color + ' ' + self.card)\n",
    "        \n",
    "            \n",
    "    def play(self):\n",
    "        \n",
    "        \n",
    "        if (self.card_score > 21 or self.card_score < 1):\n",
    "            \n",
    "            reward = -1\n",
    "            print('lose')\n",
    "        \n",
    "    def hit(self):\n",
    "        \n",
    "        deal_card()\n",
    "        print('hit')\n",
    "    \n",
    "    def stick(self):\n",
    "        \n",
    "        print('stick')\n",
    "        \n",
    "        \n",
    "        \n",
    "        "
   ]
  },
  {
   "cell_type": "markdown",
   "metadata": {},
   "source": [
    "# The Actual Environment: The Step Function"
   ]
  },
  {
   "cell_type": "code",
   "execution_count": null,
   "metadata": {},
   "outputs": [],
   "source": [
    "#step function pseudo code\n",
    "\n",
    "\n",
    "\n",
    "#do not explicitly represent the transition matrix for the MDP. \n",
    "# the dealer's moves are part of the environment: for example, calling step function\n",
    "# with a stick action will play out the dealer's cards and return the final reward and terminal state\n",
    "def step(dealer_first_card, player_sum):\n",
    "    \n",
    "    discount = 1;\n",
    "    \n",
    "    \n",
    "    \n",
    "    \n",
    "    return successor_state, reward;\n",
    "    \n",
    "\n"
   ]
  },
  {
   "cell_type": "code",
   "execution_count": null,
   "metadata": {},
   "outputs": [],
   "source": []
  },
  {
   "cell_type": "code",
   "execution_count": null,
   "metadata": {},
   "outputs": [],
   "source": []
  },
  {
   "cell_type": "code",
   "execution_count": null,
   "metadata": {},
   "outputs": [],
   "source": []
  },
  {
   "cell_type": "code",
   "execution_count": null,
   "metadata": {},
   "outputs": [],
   "source": []
  },
  {
   "cell_type": "code",
   "execution_count": null,
   "metadata": {},
   "outputs": [],
   "source": []
  },
  {
   "cell_type": "code",
   "execution_count": null,
   "metadata": {},
   "outputs": [],
   "source": []
  },
  {
   "cell_type": "code",
   "execution_count": null,
   "metadata": {},
   "outputs": [],
   "source": []
  }
 ],
 "metadata": {
  "kernelspec": {
   "display_name": "Python 3",
   "language": "python",
   "name": "python3"
  },
  "language_info": {
   "codemirror_mode": {
    "name": "ipython",
    "version": 3
   },
   "file_extension": ".py",
   "mimetype": "text/x-python",
   "name": "python",
   "nbconvert_exporter": "python",
   "pygments_lexer": "ipython3",
   "version": "3.7.4"
  }
 },
 "nbformat": 4,
 "nbformat_minor": 2
}
